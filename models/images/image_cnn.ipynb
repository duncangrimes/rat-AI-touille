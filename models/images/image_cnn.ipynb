{
  "cells": [
    {
      "cell_type": "code",
      "execution_count": null,
      "metadata": {
        "id": "i0j3_J3X7-gC"
      },
      "outputs": [],
      "source": [
        "import matplotlib.pyplot as plt\n",
        "import pandas as pd\n",
        "import seaborn as sn\n",
        "import numpy as np\n",
        "import tensorflow as tf\n",
        "from keras.preprocessing.image import ImageDataGenerator\n",
        "from tensorflow.keras.applications import vgg16\n",
        "from keras.src.layers.pooling.average_pooling2d import AvgPool2D\n",
        "from tensorflow.keras.layers import Conv2D,MaxPooling2D,Dropout\n",
        "from keras.models import Sequential\n",
        "from keras.layers import Dense,Input,Flatten\n",
        "from tensorflow.keras.utils import load_img,img_to_array\n",
        "from keras.optimizers import Adam\n",
        "from sklearn.metrics import confusion_matrix\n",
        "from keras.preprocessing.image import ImageDataGenerator\n",
        "from sklearn.model_selection import train_test_split\n",
        "import os\n",
        "from zipfile import ZipFile\n",
        "import random\n",
        "import shutil\n",
        "from tqdm import tqdm"
      ]
    },
    {
      "cell_type": "code",
      "execution_count": null,
      "metadata": {
        "id": "mzQ8wRhDB5yA"
      },
      "outputs": [],
      "source": [
        "def get_percent_images(target_dir, new_dir, sample_amount=0.1, random_state=42):\n",
        "    \"\"\"\n",
        "    Get sample_amount percentage of random images from target_dir and copy them to new_dir.\n",
        "\n",
        "    Preserves subdirectory file names.\n",
        "\n",
        "    E.g. target_dir=pizza_steak/train/steak/all_files\n",
        "                -> new_dir_name/train/steak/X_percent_of_all_files\n",
        "\n",
        "    Parameters\n",
        "    --------\n",
        "    target_dir (str) - file path of directory you want to extract images from\n",
        "    new_dir (str) - new directory path you want to copy original images to\n",
        "    sample_amount (float), default 0.1 - percentage of images to copy (e.g. 0.1 = 10%)\n",
        "    random_state (int), default 42 - random seed value\n",
        "    \"\"\"\n",
        "    # Set random seed for reproducibility\n",
        "    random.seed(random_state)\n",
        "\n",
        "    # Get a list of dictionaries of image files in target_dir\n",
        "    # e.g. [{\"class_name\":[\"2348348.jpg\", \"2829119.jpg\"]}]\n",
        "    images = [{dir_name: os.listdir(target_dir + dir_name)} for dir_name in os.listdir(target_dir)]\n",
        "\n",
        "    for i in images:\n",
        "        for k, v in i.items():\n",
        "            # How many images to sample?\n",
        "            sample_number = round(int(len(v)*sample_amount))\n",
        "            print(f\"There are {len(v)} total images in '{target_dir+k}' so we're going to copy {sample_number} to the new directory.\")\n",
        "            print(f\"Getting {sample_number} random images for {k}...\")\n",
        "            random_images = random.sample(v, sample_number)\n",
        "\n",
        "            # Make new dir for each key\n",
        "            new_target_dir = new_dir + k\n",
        "            print(f\"Making dir: {new_target_dir}\")\n",
        "            os.makedirs(new_target_dir, exist_ok=True)\n",
        "\n",
        "            # Keep track of images moved\n",
        "            images_moved = []\n",
        "\n",
        "            # Create file paths for original images and new file target\n",
        "            print(f\"Copying images from: {target_dir}\\n\\t\\t to: {new_target_dir}/\\n\")\n",
        "            for file_name in tqdm(random_images):\n",
        "                og_path = target_dir + k + \"/\" + file_name\n",
        "                new_path = new_target_dir + \"/\" + file_name\n",
        "\n",
        "                # Copy images from OG path to new path\n",
        "                shutil.copy2(og_path, new_path)\n",
        "                images_moved.append(new_path)\n",
        "\n",
        "            # Make sure number of images moved is correct\n",
        "            assert len(os.listdir(new_target_dir)) == sample_number\n",
        "            assert len(images_moved) == sample_number"
      ]
    },
    {
      "cell_type": "code",
      "execution_count": null,
      "metadata": {
        "id": "PEGKgrUM-OBg",
        "colab": {
          "base_uri": "https://localhost:8080/",
          "height": 287
        },
        "outputId": "b88d9db5-8398-4b4b-e22e-6fbc39d567cd"
      },
      "outputs": [
        {
          "output_type": "error",
          "ename": "FileNotFoundError",
          "evalue": "[Errno 2] No such file or directory: '/content/drive/MyDrive/Junior Year/Artificial NNs/archive.zip'",
          "traceback": [
            "\u001b[0;31m---------------------------------------------------------------------------\u001b[0m",
            "\u001b[0;31mFileNotFoundError\u001b[0m                         Traceback (most recent call last)",
            "\u001b[0;32m<ipython-input-3-7c4ccc0d86ce>\u001b[0m in \u001b[0;36m<cell line: 1>\u001b[0;34m()\u001b[0m\n\u001b[0;32m----> 1\u001b[0;31m \u001b[0;32mwith\u001b[0m \u001b[0mZipFile\u001b[0m\u001b[0;34m(\u001b[0m\u001b[0;34m'/content/drive/MyDrive/Junior Year/Artificial NNs/archive.zip'\u001b[0m\u001b[0;34m,\u001b[0m \u001b[0;34m'r'\u001b[0m\u001b[0;34m)\u001b[0m \u001b[0;32mas\u001b[0m \u001b[0mzip\u001b[0m\u001b[0;34m:\u001b[0m\u001b[0;34m\u001b[0m\u001b[0;34m\u001b[0m\u001b[0m\n\u001b[0m\u001b[1;32m      2\u001b[0m     \u001b[0mzip\u001b[0m\u001b[0;34m.\u001b[0m\u001b[0mextractall\u001b[0m\u001b[0;34m(\u001b[0m\u001b[0;34m'/content/drive/MyDrive/Junior Year/Artificial NNs/'\u001b[0m\u001b[0;34m)\u001b[0m\u001b[0;34m\u001b[0m\u001b[0;34m\u001b[0m\u001b[0m\n",
            "\u001b[0;32m/usr/lib/python3.10/zipfile.py\u001b[0m in \u001b[0;36m__init__\u001b[0;34m(self, file, mode, compression, allowZip64, compresslevel, strict_timestamps)\u001b[0m\n\u001b[1;32m   1249\u001b[0m             \u001b[0;32mwhile\u001b[0m \u001b[0;32mTrue\u001b[0m\u001b[0;34m:\u001b[0m\u001b[0;34m\u001b[0m\u001b[0;34m\u001b[0m\u001b[0m\n\u001b[1;32m   1250\u001b[0m                 \u001b[0;32mtry\u001b[0m\u001b[0;34m:\u001b[0m\u001b[0;34m\u001b[0m\u001b[0;34m\u001b[0m\u001b[0m\n\u001b[0;32m-> 1251\u001b[0;31m                     \u001b[0mself\u001b[0m\u001b[0;34m.\u001b[0m\u001b[0mfp\u001b[0m \u001b[0;34m=\u001b[0m \u001b[0mio\u001b[0m\u001b[0;34m.\u001b[0m\u001b[0mopen\u001b[0m\u001b[0;34m(\u001b[0m\u001b[0mfile\u001b[0m\u001b[0;34m,\u001b[0m \u001b[0mfilemode\u001b[0m\u001b[0;34m)\u001b[0m\u001b[0;34m\u001b[0m\u001b[0;34m\u001b[0m\u001b[0m\n\u001b[0m\u001b[1;32m   1252\u001b[0m                 \u001b[0;32mexcept\u001b[0m \u001b[0mOSError\u001b[0m\u001b[0;34m:\u001b[0m\u001b[0;34m\u001b[0m\u001b[0;34m\u001b[0m\u001b[0m\n\u001b[1;32m   1253\u001b[0m                     \u001b[0;32mif\u001b[0m \u001b[0mfilemode\u001b[0m \u001b[0;32min\u001b[0m \u001b[0mmodeDict\u001b[0m\u001b[0;34m:\u001b[0m\u001b[0;34m\u001b[0m\u001b[0;34m\u001b[0m\u001b[0m\n",
            "\u001b[0;31mFileNotFoundError\u001b[0m: [Errno 2] No such file or directory: '/content/drive/MyDrive/Junior Year/Artificial NNs/archive.zip'"
          ]
        }
      ],
      "source": [
        "with ZipFile('/content/drive/MyDrive/Junior Year/Artificial NNs/archive.zip', 'r') as zip:\n",
        "    zip.extractall('/content/drive/MyDrive/Junior Year/Artificial NNs/')\n"
      ]
    },
    {
      "cell_type": "code",
      "source": [
        "from google.colab import drive\n",
        "drive.mount('/content/drive')"
      ],
      "metadata": {
        "colab": {
          "base_uri": "https://localhost:8080/"
        },
        "id": "0Z6vbheXm4Qh",
        "outputId": "5796fa88-cccf-443b-83a2-89d6065acf4c"
      },
      "execution_count": null,
      "outputs": [
        {
          "output_type": "stream",
          "name": "stdout",
          "text": [
            "Mounted at /content/drive\n"
          ]
        }
      ]
    },
    {
      "cell_type": "code",
      "execution_count": null,
      "metadata": {
        "id": "V9UujSJ3CuD9",
        "colab": {
          "base_uri": "https://localhost:8080/"
        },
        "outputId": "497a7276-d014-49d5-8402-8d950030864a"
      },
      "outputs": [
        {
          "output_type": "stream",
          "name": "stdout",
          "text": [
            "There are 1000 total images in '/content/drive/MyDrive/Junior Year/Artificial NNs/images/apple_pie' so we're going to copy 100 to the new directory.\n",
            "Getting 100 random images for apple_pie...\n",
            "Making dir: /content/drive/MyDrive/Junior Year/Artificial NNs/images_small/apple_pie\n",
            "Copying images from: /content/drive/MyDrive/Junior Year/Artificial NNs/images/\n",
            "\t\t to: /content/drive/MyDrive/Junior Year/Artificial NNs/images_small/apple_pie/\n",
            "\n"
          ]
        },
        {
          "output_type": "stream",
          "name": "stderr",
          "text": [
            " 10%|█         | 10/100 [00:03<00:31,  2.88it/s]"
          ]
        }
      ],
      "source": [
        "target_dir = '/content/drive/MyDrive/Junior Year/Artificial NNs/images/'\n",
        "new_dir = '/content/drive/MyDrive/Junior Year/Artificial NNs/images_small/'\n",
        "get_percent_images(target_dir, new_dir, sample_amount=0.1, random_state=42)"
      ]
    },
    {
      "cell_type": "code",
      "execution_count": null,
      "metadata": {
        "colab": {
          "base_uri": "https://localhost:8080/"
        },
        "id": "cT-qJ9z2-j8o",
        "outputId": "89c79354-c980-4de0-82e7-9bb3c07ca7c0"
      },
      "outputs": [
        {
          "name": "stdout",
          "output_type": "stream",
          "text": [
            "Mounted at /content/drive\n"
          ]
        }
      ],
      "source": [
        "# from google.colab import drive\n",
        "# drive.mount('/content/drive')"
      ]
    },
    {
      "cell_type": "markdown",
      "metadata": {
        "id": "9aZtoR9I7-gF"
      },
      "source": [
        "Inspect Labels"
      ]
    },
    {
      "cell_type": "code",
      "execution_count": null,
      "metadata": {
        "colab": {
          "base_uri": "https://localhost:8080/"
        },
        "id": "wH63246S7-gG",
        "outputId": "b23d7933-371c-4bcd-a69e-2c9bd3ec6a1c"
      },
      "outputs": [
        {
          "output_type": "stream",
          "name": "stdout",
          "text": [
            "['apple_pie', 'baby_back_ribs', 'baklava', 'beef_carpaccio', 'beef_tartare', 'beet_salad', 'beignets', 'bibimbap', 'bread_pudding', 'breakfast_burrito', 'bruschetta', 'caesar_salad', 'cannoli', 'caprese_salad', 'carrot_cake', 'ceviche', 'cheese_plate', 'cheesecake', 'chicken_curry', 'chicken_quesadilla', 'chicken_wings', 'chocolate_cake', 'chocolate_mousse', 'churros', 'clam_chowder', 'club_sandwich', 'crab_cakes', 'creme_brulee', 'croque_madame', 'cup_cakes', 'deviled_eggs', 'donuts', 'dumplings', 'edamame', 'eggs_benedict', 'escargots', 'falafel', 'filet_mignon', 'fish_and_chips', 'foie_gras', 'french_fries', 'french_onion_soup', 'french_toast', 'fried_calamari', 'fried_rice', 'frozen_yogurt', 'garlic_bread', 'gnocchi', 'greek_salad', 'grilled_cheese_sandwich', 'grilled_salmon', 'guacamole', 'gyoza', 'hamburger', 'hot_and_sour_soup', 'hot_dog', 'huevos_rancheros', 'hummus', 'ice_cream', 'lasagna', 'lobster_bisque', 'lobster_roll_sandwich', 'macaroni_and_cheese', 'macarons', 'miso_soup', 'mussels', 'nachos', 'omelette', 'onion_rings', 'oysters', 'pad_thai', 'paella', 'pancakes', 'panna_cotta', 'peking_duck', 'pho', 'pizza', 'pork_chop', 'poutine', 'prime_rib', 'pulled_pork_sandwich', 'ramen', 'ravioli', 'red_velvet_cake', 'risotto', 'samosa', 'sashimi', 'scallops', 'seaweed_salad', 'shrimp_and_grits', 'spaghetti_bolognese', 'spaghetti_carbonara', 'spring_rolls', 'steak', 'strawberry_shortcake', 'sushi', 'tacos', 'takoyaki', 'tiramisu', 'tuna_tartare', 'waffles']\n",
            "101\n"
          ]
        }
      ],
      "source": [
        "import os\n",
        "image_dirname = \"/content/drive/MyDrive/Junior Year/Artificial NNs/images_small/\"\n",
        "labels = os.listdir(image_dirname)\n",
        "labels.sort()\n",
        "print(labels)\n",
        "print(len(labels))"
      ]
    },
    {
      "cell_type": "code",
      "execution_count": null,
      "metadata": {
        "colab": {
          "base_uri": "https://localhost:8080/"
        },
        "id": "LaeBPfb-NPmj",
        "outputId": "72b71e4f-d102-4ab5-8cf1-791e1f82ea58"
      },
      "outputs": [
        {
          "output_type": "stream",
          "name": "stdout",
          "text": [
            "Sun May  5 16:55:21 2024       \n",
            "+---------------------------------------------------------------------------------------+\n",
            "| NVIDIA-SMI 535.104.05             Driver Version: 535.104.05   CUDA Version: 12.2     |\n",
            "|-----------------------------------------+----------------------+----------------------+\n",
            "| GPU  Name                 Persistence-M | Bus-Id        Disp.A | Volatile Uncorr. ECC |\n",
            "| Fan  Temp   Perf          Pwr:Usage/Cap |         Memory-Usage | GPU-Util  Compute M. |\n",
            "|                                         |                      |               MIG M. |\n",
            "|=========================================+======================+======================|\n",
            "|   0  Tesla T4                       Off | 00000000:00:04.0 Off |                    0 |\n",
            "| N/A   69C    P0              30W /  70W |   8447MiB / 15360MiB |      0%      Default |\n",
            "|                                         |                      |                  N/A |\n",
            "+-----------------------------------------+----------------------+----------------------+\n",
            "                                                                                         \n",
            "+---------------------------------------------------------------------------------------+\n",
            "| Processes:                                                                            |\n",
            "|  GPU   GI   CI        PID   Type   Process name                            GPU Memory |\n",
            "|        ID   ID                                                             Usage      |\n",
            "|=======================================================================================|\n",
            "+---------------------------------------------------------------------------------------+\n"
          ]
        }
      ],
      "source": [
        "!nvidia-smi"
      ]
    },
    {
      "cell_type": "code",
      "execution_count": null,
      "metadata": {
        "colab": {
          "base_uri": "https://localhost:8080/"
        },
        "id": "eA5HAqlwNVWA",
        "outputId": "9f82c796-2123-45d3-d066-416cdd1c06a9"
      },
      "outputs": [
        {
          "output_type": "stream",
          "name": "stderr",
          "text": [
            "/usr/local/lib/python3.10/dist-packages/tensorflow/python/client/session.py:1793: UserWarning: An interactive session is already active. This can cause out-of-memory errors in some cases. You must explicitly call `InteractiveSession.close()` to release resources held by the other session(s).\n",
            "  warnings.warn('An interactive session is already active. This can '\n"
          ]
        }
      ],
      "source": [
        "# Configure GPU\n",
        "gpu_options = tf.compat.v1.GPUOptions(allow_growth=True)\n",
        "session = tf.compat.v1.InteractiveSession(config=tf.compat.v1.ConfigProto(gpu_options=gpu_options))"
      ]
    },
    {
      "cell_type": "markdown",
      "metadata": {
        "id": "5KGyNnBO7-gG"
      },
      "source": [
        "Using ImageDataGenerator allows more efficient training and categorization of data given the folder names in the image/ directory"
      ]
    },
    {
      "cell_type": "code",
      "execution_count": null,
      "metadata": {
        "colab": {
          "base_uri": "https://localhost:8080/"
        },
        "id": "G7Arlw_y7-gH",
        "outputId": "76cdbf8b-63ea-4809-cbc8-32f20c27c333"
      },
      "outputs": [
        {
          "output_type": "stream",
          "name": "stdout",
          "text": [
            "Found 90900 images belonging to 101 classes.\n",
            "Found 10100 images belonging to 101 classes.\n"
          ]
        }
      ],
      "source": [
        "train_datagen = ImageDataGenerator(rescale=1./255,validation_split=0.1)\n",
        "train_data = train_datagen.flow_from_directory(image_dirname,\n",
        "                                               target_size=(224,224),\n",
        "                                               batch_size=100,\n",
        "                                               class_mode='categorical',\n",
        "                                               shuffle=True,\n",
        "                                               subset='training')\n",
        "test_data = train_datagen.flow_from_directory(image_dirname,\n",
        "                                               target_size=(224,224),\n",
        "                                               batch_size=100,\n",
        "                                               class_mode='categorical',\n",
        "                                               shuffle=False,\n",
        "                                               subset='validation')"
      ]
    },
    {
      "cell_type": "code",
      "execution_count": null,
      "metadata": {
        "colab": {
          "base_uri": "https://localhost:8080/"
        },
        "id": "ZsrMFwKa7-gH",
        "outputId": "035dd654-b988-4c22-f383-df92589ffe8c"
      },
      "outputs": [
        {
          "output_type": "stream",
          "name": "stdout",
          "text": [
            "(224, 224, 3)\n"
          ]
        }
      ],
      "source": [
        "print(train_data.image_shape)"
      ]
    },
    {
      "cell_type": "code",
      "execution_count": null,
      "metadata": {
        "colab": {
          "base_uri": "https://localhost:8080/"
        },
        "id": "xtdf2S9e7-gH",
        "outputId": "a3b240d0-3c9b-4b5c-c1d4-747f9f377a0a"
      },
      "outputs": [
        {
          "output_type": "stream",
          "name": "stdout",
          "text": [
            "[  0   1   2   3   4   5   6   7   8   9  10  11  12  13  14  15  16  17\n",
            "  18  19  20  21  22  23  24  25  26  27  28  29  30  31  32  33  34  35\n",
            "  36  37  38  39  40  41  42  43  44  45  46  47  48  49  50  51  52  53\n",
            "  54  55  56  57  58  59  60  61  62  63  64  65  66  67  68  69  70  71\n",
            "  72  73  74  75  76  77  78  79  80  81  82  83  84  85  86  87  88  89\n",
            "  90  91  92  93  94  95  96  97  98  99 100]\n",
            "{'apple_pie': 0, 'baby_back_ribs': 1, 'baklava': 2, 'beef_carpaccio': 3, 'beef_tartare': 4, 'beet_salad': 5, 'beignets': 6, 'bibimbap': 7, 'bread_pudding': 8, 'breakfast_burrito': 9, 'bruschetta': 10, 'caesar_salad': 11, 'cannoli': 12, 'caprese_salad': 13, 'carrot_cake': 14, 'ceviche': 15, 'cheese_plate': 16, 'cheesecake': 17, 'chicken_curry': 18, 'chicken_quesadilla': 19, 'chicken_wings': 20, 'chocolate_cake': 21, 'chocolate_mousse': 22, 'churros': 23, 'clam_chowder': 24, 'club_sandwich': 25, 'crab_cakes': 26, 'creme_brulee': 27, 'croque_madame': 28, 'cup_cakes': 29, 'deviled_eggs': 30, 'donuts': 31, 'dumplings': 32, 'edamame': 33, 'eggs_benedict': 34, 'escargots': 35, 'falafel': 36, 'filet_mignon': 37, 'fish_and_chips': 38, 'foie_gras': 39, 'french_fries': 40, 'french_onion_soup': 41, 'french_toast': 42, 'fried_calamari': 43, 'fried_rice': 44, 'frozen_yogurt': 45, 'garlic_bread': 46, 'gnocchi': 47, 'greek_salad': 48, 'grilled_cheese_sandwich': 49, 'grilled_salmon': 50, 'guacamole': 51, 'gyoza': 52, 'hamburger': 53, 'hot_and_sour_soup': 54, 'hot_dog': 55, 'huevos_rancheros': 56, 'hummus': 57, 'ice_cream': 58, 'lasagna': 59, 'lobster_bisque': 60, 'lobster_roll_sandwich': 61, 'macaroni_and_cheese': 62, 'macarons': 63, 'miso_soup': 64, 'mussels': 65, 'nachos': 66, 'omelette': 67, 'onion_rings': 68, 'oysters': 69, 'pad_thai': 70, 'paella': 71, 'pancakes': 72, 'panna_cotta': 73, 'peking_duck': 74, 'pho': 75, 'pizza': 76, 'pork_chop': 77, 'poutine': 78, 'prime_rib': 79, 'pulled_pork_sandwich': 80, 'ramen': 81, 'ravioli': 82, 'red_velvet_cake': 83, 'risotto': 84, 'samosa': 85, 'sashimi': 86, 'scallops': 87, 'seaweed_salad': 88, 'shrimp_and_grits': 89, 'spaghetti_bolognese': 90, 'spaghetti_carbonara': 91, 'spring_rolls': 92, 'steak': 93, 'strawberry_shortcake': 94, 'sushi': 95, 'tacos': 96, 'takoyaki': 97, 'tiramisu': 98, 'tuna_tartare': 99, 'waffles': 100}\n"
          ]
        }
      ],
      "source": [
        "print(np.unique(train_data.labels))\n",
        "print(train_data.class_indices)"
      ]
    },
    {
      "cell_type": "markdown",
      "metadata": {
        "id": "ETZW0_j67-gI"
      },
      "source": [
        "Use pretrained model DenseNet201 as a basis for training the classifier"
      ]
    },
    {
      "cell_type": "code",
      "execution_count": null,
      "metadata": {
        "id": "QTfuYrxe7-gI"
      },
      "outputs": [],
      "source": [
        "from tensorflow.keras.applications.densenet import DenseNet201\n",
        "input = Input(shape=train_data.image_shape)\n",
        "pretrained_model = DenseNet201(weights='imagenet', include_top=False, input_tensor=input)\n",
        "pretrained_model.summary()"
      ]
    },
    {
      "cell_type": "markdown",
      "metadata": {
        "id": "AuL9bsou7-gI"
      },
      "source": [
        "Start with all layers frozen."
      ]
    },
    {
      "cell_type": "code",
      "execution_count": null,
      "metadata": {
        "id": "adJKD4fz7-gI"
      },
      "outputs": [],
      "source": [
        "for layer in pretrained_model.layers[:]:\n",
        "  layer.trainable = False\n",
        "\n",
        "pretrained_model.summary()"
      ]
    },
    {
      "cell_type": "code",
      "execution_count": null,
      "metadata": {
        "id": "u8gF6BoG7-gJ"
      },
      "outputs": [],
      "source": [
        "new_model = Sequential()\n",
        "\n",
        "# Add frozen pretrained model\n",
        "new_model.add(pretrained_model)\n",
        "new_model.add(Flatten())\n",
        "\n",
        "# Fully connected layers:\n",
        "new_model.add(Dense(1024, activation='relu'))\n",
        "new_model.add(Dense(1024, activation='relu'))\n",
        "\n",
        "# Dropout layer:\n",
        "new_model.add(Dropout(0.2))\n",
        "\n",
        "# Output Layer:\n",
        "new_model.add(Dense(101, activation='softmax'))\n",
        "\n",
        "new_model.summary()"
      ]
    },
    {
      "cell_type": "code",
      "execution_count": null,
      "metadata": {
        "colab": {
          "base_uri": "https://localhost:8080/"
        },
        "id": "cSy9wh_Y7-gJ",
        "outputId": "33ada3e3-4962-40f0-9d9f-b9f846fc2ca7"
      },
      "outputs": [
        {
          "output_type": "stream",
          "name": "stdout",
          "text": [
            "Epoch 1/50\n",
            "909/909 [==============================] - 944s 931ms/step - loss: 2.6495 - accuracy: 0.3944 - val_loss: 1.9957 - val_accuracy: 0.4966\n",
            "Epoch 2/50\n",
            "909/909 [==============================] - 830s 913ms/step - loss: 1.7526 - accuracy: 0.5507 - val_loss: 1.8918 - val_accuracy: 0.5269\n",
            "Epoch 3/50\n",
            "909/909 [==============================] - 848s 933ms/step - loss: 1.5011 - accuracy: 0.6053 - val_loss: 1.9777 - val_accuracy: 0.5154\n",
            "Epoch 4/50\n",
            "909/909 [==============================] - 876s 963ms/step - loss: 1.3505 - accuracy: 0.6401 - val_loss: 1.9821 - val_accuracy: 0.5390\n",
            "Epoch 5/50\n",
            "369/909 [===========>..................] - ETA: 7:57 - loss: 1.1224 - accuracy: 0.6920"
          ]
        }
      ],
      "source": [
        "# TRAIN MODEL\n",
        "new_model.compile(loss='categorical_crossentropy',optimizer=Adam(learning_rate=0.001), metrics=['accuracy'])\n",
        "\n",
        "from tensorflow.keras.callbacks import EarlyStopping\n",
        "results = new_model.fit(train_data, epochs=50, validation_data=test_data,\n",
        "                  steps_per_epoch=len(train_data), validation_steps=len(test_data),\n",
        "                  callbacks = EarlyStopping(patience=5, monitor='val_accuracy',restore_best_weights=True)\n",
        "                  )"
      ]
    },
    {
      "cell_type": "code",
      "execution_count": null,
      "metadata": {
        "colab": {
          "base_uri": "https://localhost:8080/"
        },
        "id": "fR3Q_SoH7-gJ",
        "outputId": "61a7a627-ac05-4674-8613-e2fff1ba597e"
      },
      "outputs": [
        {
          "name": "stdout",
          "output_type": "stream",
          "text": [
            "11/11 [==============================] - 7s 585ms/step - loss: 3.7282 - accuracy: 0.4515\n",
            "Test accuracy: 0.45148515701293945 Test loss: 3.7281765937805176\n"
          ]
        }
      ],
      "source": [
        "# EVALUATE MODEL\n",
        "loss, accuracy = new_model.evaluate(test_data)\n",
        "print(\"Test accuracy:\", accuracy, \"Test loss:\", loss)"
      ]
    },
    {
      "cell_type": "code",
      "execution_count": null,
      "metadata": {
        "colab": {
          "base_uri": "https://localhost:8080/"
        },
        "id": "Rd7uQACaS1UT",
        "outputId": "5c58adc2-972e-4ed9-ca16-675a51b7f1e8"
      },
      "outputs": [
        {
          "name": "stdout",
          "output_type": "stream",
          "text": [
            "dict_keys(['loss', 'accuracy', 'val_loss', 'val_accuracy'])\n"
          ]
        }
      ],
      "source": [
        "print(results.history.keys())"
      ]
    },
    {
      "cell_type": "code",
      "execution_count": null,
      "metadata": {
        "colab": {
          "base_uri": "https://localhost:8080/",
          "height": 452
        },
        "id": "LWC4tu2i7-gJ",
        "outputId": "9650c179-a536-4eeb-8854-9d3fe7927304"
      },
      "outputs": [
        {
          "data": {
            "image/png": "[encoded data removed]",
            "text/plain": [
              "<Figure size 640x480 with 1 Axes>"
            ]
          },
          "metadata": {},
          "output_type": "display_data"
        }
      ],
      "source": [
        "fig = plt.figure()\n",
        "plt.plot(results.history['accuracy'], c='blue', label='training accuracy')\n",
        "plt.plot(results.history['val_accuracy'], c='red', label='val accuracy')\n",
        "plt.title('Accuracy')\n",
        "plt.legend(loc='upper right')\n",
        "plt.show()"
      ]
    },
    {
      "cell_type": "code",
      "execution_count": null,
      "metadata": {
        "colab": {
          "base_uri": "https://localhost:8080/",
          "height": 452
        },
        "id": "anzxzlZGTBMP",
        "outputId": "4c00b66c-1ec9-474f-d877-10aa6d0db94d"
      },
      "outputs": [
        {
          "data": {
            "image/png": "[encoded data removed]",
            "text/plain": [
              "<Figure size 640x480 with 1 Axes>"
            ]
          },
          "metadata": {},
          "output_type": "display_data"
        }
      ],
      "source": [
        "fig = plt.figure()\n",
        "plt.plot(results.history['loss'], c='blue', label='training loss')\n",
        "plt.plot(results.history['val_loss'], c='red', label='val loss')\n",
        "plt.title('Loss')\n",
        "plt.legend(loc='upper right')\n",
        "plt.show()"
      ]
    },
    {
      "cell_type": "code",
      "execution_count": null,
      "metadata": {
        "id": "OX8AMsHnTRfE"
      },
      "outputs": [],
      "source": []
    }
  ],
  "metadata": {
    "accelerator": "GPU",
    "colab": {
      "gpuType": "T4",
      "provenance": []
    },
    "kernelspec": {
      "display_name": "Python 3",
      "name": "python3"
    },
    "language_info": {
      "codemirror_mode": {
        "name": "ipython",
        "version": 3
      },
      "file_extension": ".py",
      "mimetype": "text/x-python",
      "name": "python",
      "nbconvert_exporter": "python",
      "pygments_lexer": "ipython3",
      "version": "3.9.7"
    }
  },
  "nbformat": 4,
  "nbformat_minor": 0
}